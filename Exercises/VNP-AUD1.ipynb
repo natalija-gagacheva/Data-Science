{
 "cells": [
  {
   "cell_type": "code",
   "execution_count": 1,
   "id": "cd2138e5-e010-4a74-8ba9-a25f3dfa45f6",
   "metadata": {},
   "outputs": [
    {
     "name": "stdout",
     "output_type": "stream",
     "text": [
      "se otepavme ama uspea\n"
     ]
    }
   ],
   "source": [
    "print(\"se otepavme ama uspea\")"
   ]
  },
  {
   "cell_type": "code",
   "execution_count": 3,
   "id": "a67845cd-e502-4deb-a2f2-6d8f2ba3e33d",
   "metadata": {},
   "outputs": [],
   "source": [
    "import pandas as pd "
   ]
  },
  {
   "cell_type": "code",
   "execution_count": null,
   "id": "1d3e829f-00ac-4950-beba-c73fe3737b89",
   "metadata": {},
   "outputs": [],
   "source": []
  },
  {
   "cell_type": "code",
   "execution_count": 104,
   "id": "a5c83129-dfcb-4414-bd78-b2dca860a3fd",
   "metadata": {},
   "outputs": [],
   "source": [
    "person = {\n",
    "    \"name\" : \"Nat\",\n",
    "    \"surname\" : \"G\",\n",
    "    \"embg\" : \"211526\",\n",
    "    \"age\" : 22,\n",
    "    \"height\" : 164.5\n",
    "}"
   ]
  },
  {
   "cell_type": "code",
   "execution_count": 4,
   "id": "444a615a-8248-4e4d-b136-b0b1d6692202",
   "metadata": {},
   "outputs": [
    {
     "ename": "FileNotFoundError",
     "evalue": "[Errno 2] No such file or directory: 'Desktop/vnp/podatoci'",
     "output_type": "error",
     "traceback": [
      "\u001b[1;31m---------------------------------------------------------------------------\u001b[0m",
      "\u001b[1;31mFileNotFoundError\u001b[0m                         Traceback (most recent call last)",
      "Cell \u001b[1;32mIn[4], line 1\u001b[0m\n\u001b[1;32m----> 1\u001b[0m data \u001b[38;5;241m=\u001b[39m pd\u001b[38;5;241m.\u001b[39mread_csv(\u001b[38;5;124m'\u001b[39m\u001b[38;5;124mDesktop/vnp/podatoci\u001b[39m\u001b[38;5;124m'\u001b[39m)\n",
      "File \u001b[1;32m~\\anaconda3\\envs\\VNP\\Lib\\site-packages\\pandas\\io\\parsers\\readers.py:1026\u001b[0m, in \u001b[0;36mread_csv\u001b[1;34m(filepath_or_buffer, sep, delimiter, header, names, index_col, usecols, dtype, engine, converters, true_values, false_values, skipinitialspace, skiprows, skipfooter, nrows, na_values, keep_default_na, na_filter, verbose, skip_blank_lines, parse_dates, infer_datetime_format, keep_date_col, date_parser, date_format, dayfirst, cache_dates, iterator, chunksize, compression, thousands, decimal, lineterminator, quotechar, quoting, doublequote, escapechar, comment, encoding, encoding_errors, dialect, on_bad_lines, delim_whitespace, low_memory, memory_map, float_precision, storage_options, dtype_backend)\u001b[0m\n\u001b[0;32m   1013\u001b[0m kwds_defaults \u001b[38;5;241m=\u001b[39m _refine_defaults_read(\n\u001b[0;32m   1014\u001b[0m     dialect,\n\u001b[0;32m   1015\u001b[0m     delimiter,\n\u001b[1;32m   (...)\u001b[0m\n\u001b[0;32m   1022\u001b[0m     dtype_backend\u001b[38;5;241m=\u001b[39mdtype_backend,\n\u001b[0;32m   1023\u001b[0m )\n\u001b[0;32m   1024\u001b[0m kwds\u001b[38;5;241m.\u001b[39mupdate(kwds_defaults)\n\u001b[1;32m-> 1026\u001b[0m \u001b[38;5;28;01mreturn\u001b[39;00m _read(filepath_or_buffer, kwds)\n",
      "File \u001b[1;32m~\\anaconda3\\envs\\VNP\\Lib\\site-packages\\pandas\\io\\parsers\\readers.py:620\u001b[0m, in \u001b[0;36m_read\u001b[1;34m(filepath_or_buffer, kwds)\u001b[0m\n\u001b[0;32m    617\u001b[0m _validate_names(kwds\u001b[38;5;241m.\u001b[39mget(\u001b[38;5;124m\"\u001b[39m\u001b[38;5;124mnames\u001b[39m\u001b[38;5;124m\"\u001b[39m, \u001b[38;5;28;01mNone\u001b[39;00m))\n\u001b[0;32m    619\u001b[0m \u001b[38;5;66;03m# Create the parser.\u001b[39;00m\n\u001b[1;32m--> 620\u001b[0m parser \u001b[38;5;241m=\u001b[39m TextFileReader(filepath_or_buffer, \u001b[38;5;241m*\u001b[39m\u001b[38;5;241m*\u001b[39mkwds)\n\u001b[0;32m    622\u001b[0m \u001b[38;5;28;01mif\u001b[39;00m chunksize \u001b[38;5;129;01mor\u001b[39;00m iterator:\n\u001b[0;32m    623\u001b[0m     \u001b[38;5;28;01mreturn\u001b[39;00m parser\n",
      "File \u001b[1;32m~\\anaconda3\\envs\\VNP\\Lib\\site-packages\\pandas\\io\\parsers\\readers.py:1620\u001b[0m, in \u001b[0;36mTextFileReader.__init__\u001b[1;34m(self, f, engine, **kwds)\u001b[0m\n\u001b[0;32m   1617\u001b[0m     \u001b[38;5;28mself\u001b[39m\u001b[38;5;241m.\u001b[39moptions[\u001b[38;5;124m\"\u001b[39m\u001b[38;5;124mhas_index_names\u001b[39m\u001b[38;5;124m\"\u001b[39m] \u001b[38;5;241m=\u001b[39m kwds[\u001b[38;5;124m\"\u001b[39m\u001b[38;5;124mhas_index_names\u001b[39m\u001b[38;5;124m\"\u001b[39m]\n\u001b[0;32m   1619\u001b[0m \u001b[38;5;28mself\u001b[39m\u001b[38;5;241m.\u001b[39mhandles: IOHandles \u001b[38;5;241m|\u001b[39m \u001b[38;5;28;01mNone\u001b[39;00m \u001b[38;5;241m=\u001b[39m \u001b[38;5;28;01mNone\u001b[39;00m\n\u001b[1;32m-> 1620\u001b[0m \u001b[38;5;28mself\u001b[39m\u001b[38;5;241m.\u001b[39m_engine \u001b[38;5;241m=\u001b[39m \u001b[38;5;28mself\u001b[39m\u001b[38;5;241m.\u001b[39m_make_engine(f, \u001b[38;5;28mself\u001b[39m\u001b[38;5;241m.\u001b[39mengine)\n",
      "File \u001b[1;32m~\\anaconda3\\envs\\VNP\\Lib\\site-packages\\pandas\\io\\parsers\\readers.py:1880\u001b[0m, in \u001b[0;36mTextFileReader._make_engine\u001b[1;34m(self, f, engine)\u001b[0m\n\u001b[0;32m   1878\u001b[0m     \u001b[38;5;28;01mif\u001b[39;00m \u001b[38;5;124m\"\u001b[39m\u001b[38;5;124mb\u001b[39m\u001b[38;5;124m\"\u001b[39m \u001b[38;5;129;01mnot\u001b[39;00m \u001b[38;5;129;01min\u001b[39;00m mode:\n\u001b[0;32m   1879\u001b[0m         mode \u001b[38;5;241m+\u001b[39m\u001b[38;5;241m=\u001b[39m \u001b[38;5;124m\"\u001b[39m\u001b[38;5;124mb\u001b[39m\u001b[38;5;124m\"\u001b[39m\n\u001b[1;32m-> 1880\u001b[0m \u001b[38;5;28mself\u001b[39m\u001b[38;5;241m.\u001b[39mhandles \u001b[38;5;241m=\u001b[39m get_handle(\n\u001b[0;32m   1881\u001b[0m     f,\n\u001b[0;32m   1882\u001b[0m     mode,\n\u001b[0;32m   1883\u001b[0m     encoding\u001b[38;5;241m=\u001b[39m\u001b[38;5;28mself\u001b[39m\u001b[38;5;241m.\u001b[39moptions\u001b[38;5;241m.\u001b[39mget(\u001b[38;5;124m\"\u001b[39m\u001b[38;5;124mencoding\u001b[39m\u001b[38;5;124m\"\u001b[39m, \u001b[38;5;28;01mNone\u001b[39;00m),\n\u001b[0;32m   1884\u001b[0m     compression\u001b[38;5;241m=\u001b[39m\u001b[38;5;28mself\u001b[39m\u001b[38;5;241m.\u001b[39moptions\u001b[38;5;241m.\u001b[39mget(\u001b[38;5;124m\"\u001b[39m\u001b[38;5;124mcompression\u001b[39m\u001b[38;5;124m\"\u001b[39m, \u001b[38;5;28;01mNone\u001b[39;00m),\n\u001b[0;32m   1885\u001b[0m     memory_map\u001b[38;5;241m=\u001b[39m\u001b[38;5;28mself\u001b[39m\u001b[38;5;241m.\u001b[39moptions\u001b[38;5;241m.\u001b[39mget(\u001b[38;5;124m\"\u001b[39m\u001b[38;5;124mmemory_map\u001b[39m\u001b[38;5;124m\"\u001b[39m, \u001b[38;5;28;01mFalse\u001b[39;00m),\n\u001b[0;32m   1886\u001b[0m     is_text\u001b[38;5;241m=\u001b[39mis_text,\n\u001b[0;32m   1887\u001b[0m     errors\u001b[38;5;241m=\u001b[39m\u001b[38;5;28mself\u001b[39m\u001b[38;5;241m.\u001b[39moptions\u001b[38;5;241m.\u001b[39mget(\u001b[38;5;124m\"\u001b[39m\u001b[38;5;124mencoding_errors\u001b[39m\u001b[38;5;124m\"\u001b[39m, \u001b[38;5;124m\"\u001b[39m\u001b[38;5;124mstrict\u001b[39m\u001b[38;5;124m\"\u001b[39m),\n\u001b[0;32m   1888\u001b[0m     storage_options\u001b[38;5;241m=\u001b[39m\u001b[38;5;28mself\u001b[39m\u001b[38;5;241m.\u001b[39moptions\u001b[38;5;241m.\u001b[39mget(\u001b[38;5;124m\"\u001b[39m\u001b[38;5;124mstorage_options\u001b[39m\u001b[38;5;124m\"\u001b[39m, \u001b[38;5;28;01mNone\u001b[39;00m),\n\u001b[0;32m   1889\u001b[0m )\n\u001b[0;32m   1890\u001b[0m \u001b[38;5;28;01massert\u001b[39;00m \u001b[38;5;28mself\u001b[39m\u001b[38;5;241m.\u001b[39mhandles \u001b[38;5;129;01mis\u001b[39;00m \u001b[38;5;129;01mnot\u001b[39;00m \u001b[38;5;28;01mNone\u001b[39;00m\n\u001b[0;32m   1891\u001b[0m f \u001b[38;5;241m=\u001b[39m \u001b[38;5;28mself\u001b[39m\u001b[38;5;241m.\u001b[39mhandles\u001b[38;5;241m.\u001b[39mhandle\n",
      "File \u001b[1;32m~\\anaconda3\\envs\\VNP\\Lib\\site-packages\\pandas\\io\\common.py:873\u001b[0m, in \u001b[0;36mget_handle\u001b[1;34m(path_or_buf, mode, encoding, compression, memory_map, is_text, errors, storage_options)\u001b[0m\n\u001b[0;32m    868\u001b[0m \u001b[38;5;28;01melif\u001b[39;00m \u001b[38;5;28misinstance\u001b[39m(handle, \u001b[38;5;28mstr\u001b[39m):\n\u001b[0;32m    869\u001b[0m     \u001b[38;5;66;03m# Check whether the filename is to be opened in binary mode.\u001b[39;00m\n\u001b[0;32m    870\u001b[0m     \u001b[38;5;66;03m# Binary mode does not support 'encoding' and 'newline'.\u001b[39;00m\n\u001b[0;32m    871\u001b[0m     \u001b[38;5;28;01mif\u001b[39;00m ioargs\u001b[38;5;241m.\u001b[39mencoding \u001b[38;5;129;01mand\u001b[39;00m \u001b[38;5;124m\"\u001b[39m\u001b[38;5;124mb\u001b[39m\u001b[38;5;124m\"\u001b[39m \u001b[38;5;129;01mnot\u001b[39;00m \u001b[38;5;129;01min\u001b[39;00m ioargs\u001b[38;5;241m.\u001b[39mmode:\n\u001b[0;32m    872\u001b[0m         \u001b[38;5;66;03m# Encoding\u001b[39;00m\n\u001b[1;32m--> 873\u001b[0m         handle \u001b[38;5;241m=\u001b[39m \u001b[38;5;28mopen\u001b[39m(\n\u001b[0;32m    874\u001b[0m             handle,\n\u001b[0;32m    875\u001b[0m             ioargs\u001b[38;5;241m.\u001b[39mmode,\n\u001b[0;32m    876\u001b[0m             encoding\u001b[38;5;241m=\u001b[39mioargs\u001b[38;5;241m.\u001b[39mencoding,\n\u001b[0;32m    877\u001b[0m             errors\u001b[38;5;241m=\u001b[39merrors,\n\u001b[0;32m    878\u001b[0m             newline\u001b[38;5;241m=\u001b[39m\u001b[38;5;124m\"\u001b[39m\u001b[38;5;124m\"\u001b[39m,\n\u001b[0;32m    879\u001b[0m         )\n\u001b[0;32m    880\u001b[0m     \u001b[38;5;28;01melse\u001b[39;00m:\n\u001b[0;32m    881\u001b[0m         \u001b[38;5;66;03m# Binary mode\u001b[39;00m\n\u001b[0;32m    882\u001b[0m         handle \u001b[38;5;241m=\u001b[39m \u001b[38;5;28mopen\u001b[39m(handle, ioargs\u001b[38;5;241m.\u001b[39mmode)\n",
      "\u001b[1;31mFileNotFoundError\u001b[0m: [Errno 2] No such file or directory: 'Desktop/vnp/podatoci'"
     ]
    }
   ],
   "source": [
    "data = pd.read_csv('Desktop/vnp/podatoci')"
   ]
  },
  {
   "cell_type": "code",
   "execution_count": 7,
   "id": "6ffe25aa-046f-4c2b-8b4c-7f347627bae1",
   "metadata": {},
   "outputs": [],
   "source": [
    "integer_var=15\n"
   ]
  },
  {
   "cell_type": "code",
   "execution_count": 8,
   "id": "32bd963a-bf81-4f2a-a945-cdab74c21e41",
   "metadata": {},
   "outputs": [
    {
     "name": "stdout",
     "output_type": "stream",
     "text": [
      "15\n"
     ]
    }
   ],
   "source": [
    "print(integer_var)"
   ]
  },
  {
   "cell_type": "code",
   "execution_count": 9,
   "id": "c1d1ab76-1d93-4b85-82b2-6afb69e8b407",
   "metadata": {},
   "outputs": [],
   "source": [
    "string_var=\"Hello world\""
   ]
  },
  {
   "cell_type": "code",
   "execution_count": 10,
   "id": "f3ac8764-0748-4b79-a77a-2a0eadac1613",
   "metadata": {},
   "outputs": [],
   "source": [
    "float_var=42.5\n",
    "bool_var=True\n"
   ]
  },
  {
   "cell_type": "code",
   "execution_count": 11,
   "id": "327d8515-ce48-4d11-964b-65be16d7f9e9",
   "metadata": {},
   "outputs": [
    {
     "name": "stdout",
     "output_type": "stream",
     "text": [
      "Hello world\n"
     ]
    }
   ],
   "source": [
    "print(string_var)"
   ]
  },
  {
   "cell_type": "code",
   "execution_count": 12,
   "id": "0b1c3186-6497-4d58-9e4a-9bf351869be6",
   "metadata": {},
   "outputs": [
    {
     "name": "stdout",
     "output_type": "stream",
     "text": [
      "42.5\n"
     ]
    }
   ],
   "source": [
    "print(float_var)"
   ]
  },
  {
   "cell_type": "code",
   "execution_count": 13,
   "id": "0d5066df-b837-4461-a14e-f6f1e4f4c3a5",
   "metadata": {},
   "outputs": [
    {
     "name": "stdout",
     "output_type": "stream",
     "text": [
      "True\n"
     ]
    }
   ],
   "source": [
    "print(bool_var)"
   ]
  },
  {
   "cell_type": "code",
   "execution_count": 14,
   "id": "e07524e4-c31e-4d86-99bb-e801668e12d0",
   "metadata": {},
   "outputs": [
    {
     "name": "stdout",
     "output_type": "stream",
     "text": [
      "15\n"
     ]
    }
   ],
   "source": [
    "print(integer_var)"
   ]
  },
  {
   "cell_type": "code",
   "execution_count": 15,
   "id": "caa4a261-80a3-475a-9332-f7b249b01ee8",
   "metadata": {},
   "outputs": [
    {
     "name": "stdout",
     "output_type": "stream",
     "text": [
      "15 Hello world 42.5\n"
     ]
    }
   ],
   "source": [
    "print(integer_var, string_var, float_var)"
   ]
  },
  {
   "cell_type": "code",
   "execution_count": 16,
   "id": "792a2aa5-db0a-455d-88f8-5f914a1b14fb",
   "metadata": {},
   "outputs": [],
   "source": [
    "string1=\"Hello\""
   ]
  },
  {
   "cell_type": "code",
   "execution_count": 17,
   "id": "0aeec0bf-b130-4df9-ab37-ea6bf87f926c",
   "metadata": {},
   "outputs": [],
   "source": [
    "string2='Vtoro'"
   ]
  },
  {
   "cell_type": "code",
   "execution_count": 18,
   "id": "08cfbaae-8407-42a1-ab85-5e383857c1c2",
   "metadata": {},
   "outputs": [
    {
     "data": {
      "text/plain": [
       "'Vtoro'"
      ]
     },
     "execution_count": 18,
     "metadata": {},
     "output_type": "execute_result"
    }
   ],
   "source": [
    "string1\n",
    "string2"
   ]
  },
  {
   "cell_type": "code",
   "execution_count": 19,
   "id": "d3305bc4-1aa5-40c7-8780-db86ec3c11c0",
   "metadata": {},
   "outputs": [
    {
     "data": {
      "text/plain": [
       "'Hello'"
      ]
     },
     "execution_count": 19,
     "metadata": {},
     "output_type": "execute_result"
    }
   ],
   "source": [
    "string1"
   ]
  },
  {
   "cell_type": "markdown",
   "id": "3c4ee63f-8ee4-4832-b05b-2bc2d29391c5",
   "metadata": {},
   "source": [
    "Checking variable types and casting"
   ]
  },
  {
   "cell_type": "code",
   "execution_count": 20,
   "id": "acc04e3d-3d68-4dc3-b4c1-b51926139e46",
   "metadata": {},
   "outputs": [
    {
     "name": "stdout",
     "output_type": "stream",
     "text": [
      "<class 'str'>\n"
     ]
    }
   ],
   "source": [
    "print(type(string1))"
   ]
  },
  {
   "cell_type": "markdown",
   "id": "a7be6a53-f98e-4abe-b252-797cf449fe30",
   "metadata": {},
   "source": [
    "String are classes (derived types), integers and floats are primitive types"
   ]
  },
  {
   "cell_type": "code",
   "execution_count": 21,
   "id": "95c6bc1f-e477-4915-a509-7ef50900ee21",
   "metadata": {},
   "outputs": [
    {
     "data": {
      "text/plain": [
       "(int, float)"
      ]
     },
     "execution_count": 21,
     "metadata": {},
     "output_type": "execute_result"
    }
   ],
   "source": [
    "type(integer_var), type(float_var)"
   ]
  },
  {
   "cell_type": "code",
   "execution_count": 23,
   "id": "7d4de0a4-eb87-4ff0-be58-212795af8772",
   "metadata": {},
   "outputs": [
    {
     "name": "stdout",
     "output_type": "stream",
     "text": [
      "42.5\n"
     ]
    },
    {
     "data": {
      "text/plain": [
       "42.5"
      ]
     },
     "execution_count": 23,
     "metadata": {},
     "output_type": "execute_result"
    }
   ],
   "source": [
    "print(float_var)\n",
    "float_var"
   ]
  },
  {
   "cell_type": "code",
   "execution_count": 24,
   "id": "64fed726-6515-4234-91a1-4806d283de82",
   "metadata": {},
   "outputs": [
    {
     "data": {
      "text/plain": [
       "42"
      ]
     },
     "execution_count": 24,
     "metadata": {},
     "output_type": "execute_result"
    }
   ],
   "source": [
    "int(float_var)"
   ]
  },
  {
   "cell_type": "code",
   "execution_count": 25,
   "id": "b13ac602-cee1-42b6-82ef-18ab8d3293c3",
   "metadata": {},
   "outputs": [
    {
     "data": {
      "text/plain": [
       "15"
      ]
     },
     "execution_count": 25,
     "metadata": {},
     "output_type": "execute_result"
    }
   ],
   "source": [
    "integer_var"
   ]
  },
  {
   "cell_type": "code",
   "execution_count": 26,
   "id": "0049d2f9-cc60-4987-9ef8-4048ca438b2f",
   "metadata": {},
   "outputs": [
    {
     "name": "stdout",
     "output_type": "stream",
     "text": [
      "15\n"
     ]
    }
   ],
   "source": [
    "print(integer_var)"
   ]
  },
  {
   "cell_type": "code",
   "execution_count": 27,
   "id": "4f0f295b-075a-44a1-8dfb-4034e74859e2",
   "metadata": {},
   "outputs": [
    {
     "data": {
      "text/plain": [
       "'15'"
      ]
     },
     "execution_count": 27,
     "metadata": {},
     "output_type": "execute_result"
    }
   ],
   "source": [
    "str(integer_var)"
   ]
  },
  {
   "cell_type": "code",
   "execution_count": 28,
   "id": "2681bd9a-1de1-45d0-aa9a-50c7dae4e84b",
   "metadata": {},
   "outputs": [],
   "source": [
    "x,y,z=\"test\", 1, 65.33"
   ]
  },
  {
   "cell_type": "markdown",
   "id": "13f1af6c-175f-4237-a303-d8f5518e0eff",
   "metadata": {},
   "source": [
    "**0. Conditions**"
   ]
  },
  {
   "cell_type": "code",
   "execution_count": 30,
   "id": "76b44fb1-42a0-49c8-b17f-7fa9843b302b",
   "metadata": {},
   "outputs": [
    {
     "name": "stdout",
     "output_type": "stream",
     "text": [
      "the variable is less than 20\n"
     ]
    }
   ],
   "source": [
    "if integer_var < 20:\n",
    "    print(\"the variable is less than 20\")\n"
   ]
  },
  {
   "cell_type": "code",
   "execution_count": 34,
   "id": "fd0312a3-1030-4ea1-954b-ecf55791d870",
   "metadata": {},
   "outputs": [],
   "source": [
    "if integer_var < 10:\n",
    "    print(\"the variable is less than 10\")"
   ]
  },
  {
   "cell_type": "code",
   "execution_count": 36,
   "id": "05eb09c9-3e26-4d1f-b704-5c449d65bf3b",
   "metadata": {},
   "outputs": [
    {
     "name": "stdout",
     "output_type": "stream",
     "text": [
      "the variable is greater than or equal to 10\n"
     ]
    }
   ],
   "source": [
    "if integer_var < 10:\n",
    "    print(\"the variable is less than 10\")\n",
    "else:\n",
    "    print(\"the variable is greater than or equal to 10\")"
   ]
  },
  {
   "cell_type": "code",
   "execution_count": 39,
   "id": "8d36c7bd-eb9e-4a38-9a79-846c0062914c",
   "metadata": {},
   "outputs": [
    {
     "name": "stdout",
     "output_type": "stream",
     "text": [
      "the variable is less than or equal to 15\n"
     ]
    }
   ],
   "source": [
    "if integer_var < 10:\n",
    "    print(\"the variable is less than 10\")\n",
    "elif integer_var <= 15:\n",
    "    print(\"the variable is less than or equal to 15\")\n",
    "else:\n",
    "    print(\"the variable is greater than 15\")"
   ]
  },
  {
   "cell_type": "markdown",
   "id": "b75b3b45-b137-4be5-89cf-13f2f4e06a46",
   "metadata": {},
   "source": [
    "**1. Ranges:**"
   ]
  },
  {
   "cell_type": "code",
   "execution_count": 48,
   "id": "29fcc0e3-f46d-4101-8628-6a002c5aa0a2",
   "metadata": {},
   "outputs": [],
   "source": [
    "same_type_list=[1,5,7, 3432, 123]"
   ]
  },
  {
   "cell_type": "code",
   "execution_count": 41,
   "id": "1b0b9499-77dc-4494-a24e-6c450ae0ea6a",
   "metadata": {},
   "outputs": [],
   "source": [
    "different_type_list=[53, 556.23, \"hello\"]"
   ]
  },
  {
   "cell_type": "code",
   "execution_count": 42,
   "id": "bffba672-fd40-4fa7-8bb4-c997f2b19257",
   "metadata": {},
   "outputs": [
    {
     "name": "stdout",
     "output_type": "stream",
     "text": [
      "[53, 556.23, 'hello']\n"
     ]
    }
   ],
   "source": [
    "print(different_type_list)"
   ]
  },
  {
   "cell_type": "code",
   "execution_count": 43,
   "id": "be74be63-9058-4653-bab8-907a2d4421c3",
   "metadata": {},
   "outputs": [
    {
     "name": "stdout",
     "output_type": "stream",
     "text": [
      "[1, 5, 10, 456]\n"
     ]
    }
   ],
   "source": [
    "print(same_type_list)"
   ]
  },
  {
   "cell_type": "code",
   "execution_count": 49,
   "id": "f3c1a3d5-2aa8-495c-a973-7fae18b48cf1",
   "metadata": {},
   "outputs": [
    {
     "data": {
      "text/plain": [
       "[5, 7, 3432]"
      ]
     },
     "execution_count": 49,
     "metadata": {},
     "output_type": "execute_result"
    }
   ],
   "source": [
    "same_type_list[1:-1]"
   ]
  },
  {
   "cell_type": "code",
   "execution_count": 50,
   "id": "a6f25e0f-8198-4a9f-880c-705b447ddbdd",
   "metadata": {},
   "outputs": [
    {
     "data": {
      "text/plain": [
       "[5, 7, 3432]"
      ]
     },
     "execution_count": 50,
     "metadata": {},
     "output_type": "execute_result"
    }
   ],
   "source": [
    "same_type_list[1:4]"
   ]
  },
  {
   "cell_type": "code",
   "execution_count": 51,
   "id": "2fc887f8-aa26-42ca-a752-52fc769cba5d",
   "metadata": {},
   "outputs": [
    {
     "data": {
      "text/plain": [
       "[1, 5, 7, 3432]"
      ]
     },
     "execution_count": 51,
     "metadata": {},
     "output_type": "execute_result"
    }
   ],
   "source": [
    "same_type_list[0:-1]"
   ]
  },
  {
   "cell_type": "code",
   "execution_count": 52,
   "id": "b2965e48-9bc3-464f-8e96-aac2889e754f",
   "metadata": {},
   "outputs": [
    {
     "data": {
      "text/plain": [
       "[1, 5, 7, 3432]"
      ]
     },
     "execution_count": 52,
     "metadata": {},
     "output_type": "execute_result"
    }
   ],
   "source": [
    "same_type_list[0:4]"
   ]
  },
  {
   "cell_type": "code",
   "execution_count": 53,
   "id": "e85d08d8-20ad-4f65-bb2a-2decdc3d4ceb",
   "metadata": {},
   "outputs": [
    {
     "data": {
      "text/plain": [
       "[1, 5, 7, 3432, 123]"
      ]
     },
     "execution_count": 53,
     "metadata": {},
     "output_type": "execute_result"
    }
   ],
   "source": [
    "same_type_list[0:5]"
   ]
  },
  {
   "cell_type": "code",
   "execution_count": 54,
   "id": "f4944c23-94e0-4355-a56b-0cb1add9435b",
   "metadata": {},
   "outputs": [
    {
     "data": {
      "text/plain": [
       "[]"
      ]
     },
     "execution_count": 54,
     "metadata": {},
     "output_type": "execute_result"
    }
   ],
   "source": [
    "same_type_list[0:-0]"
   ]
  },
  {
   "cell_type": "code",
   "execution_count": 55,
   "id": "1b47fe2b-29a5-434c-b646-480ae825ddb7",
   "metadata": {},
   "outputs": [
    {
     "data": {
      "text/plain": [
       "123"
      ]
     },
     "execution_count": 55,
     "metadata": {},
     "output_type": "execute_result"
    }
   ],
   "source": [
    "same_type_list[-1]"
   ]
  },
  {
   "cell_type": "code",
   "execution_count": 56,
   "id": "72637b19-7351-476d-8e26-01ffec6c2b7e",
   "metadata": {},
   "outputs": [
    {
     "data": {
      "text/plain": [
       "[1, 5, 7, 3432]"
      ]
     },
     "execution_count": 56,
     "metadata": {},
     "output_type": "execute_result"
    }
   ],
   "source": [
    "same_type_list[0:-1]"
   ]
  },
  {
   "cell_type": "markdown",
   "id": "af86d306-3837-48b5-b3bf-1ca619c4f3c2",
   "metadata": {},
   "source": [
    "**2. List comprehension**"
   ]
  },
  {
   "cell_type": "markdown",
   "id": "fb9f0cab-5647-4a3e-8708-77e4422b61b4",
   "metadata": {},
   "source": [
    "**Lists are ordered, changeable, indexed and allow duplicates**"
   ]
  },
  {
   "cell_type": "code",
   "execution_count": 59,
   "id": "23c63797-7fc0-414c-8713-468a52c9d389",
   "metadata": {},
   "outputs": [],
   "source": [
    "new_list = [element for element in same_type_list if element > 10]"
   ]
  },
  {
   "cell_type": "markdown",
   "id": "6fbca4db-5065-4ec5-b376-fe1dffd7451e",
   "metadata": {},
   "source": [
    "**Gi zema site brojki koi se nad 10 od listata same_type_list**"
   ]
  },
  {
   "cell_type": "code",
   "execution_count": 61,
   "id": "f4d556fc-fde8-4e7e-a372-964b58e60f30",
   "metadata": {},
   "outputs": [
    {
     "data": {
      "text/plain": [
       "[3432, 123]"
      ]
     },
     "execution_count": 61,
     "metadata": {},
     "output_type": "execute_result"
    }
   ],
   "source": [
    "new_list"
   ]
  },
  {
   "cell_type": "markdown",
   "id": "dcabe3f5-7d52-4e26-8a95-4dd84734cef8",
   "metadata": {},
   "source": [
    "**3. Tuples**"
   ]
  },
  {
   "cell_type": "markdown",
   "id": "ab1742d4-5a13-4c5b-960e-446b4619743b",
   "metadata": {},
   "source": [
    "**Tuples are ordered and unchangeable. You cannot change, add or remove items**"
   ]
  },
  {
   "cell_type": "markdown",
   "id": "ecd56cdf-f837-4877-8ea8-c540b6ac3139",
   "metadata": {},
   "source": [
    "**Tuples allow duplicates**"
   ]
  },
  {
   "cell_type": "code",
   "execution_count": 74,
   "id": "976d319a-d076-4e24-9fc5-8848619657ac",
   "metadata": {},
   "outputs": [],
   "source": [
    "tuple1= (1,2,3,4)\n",
    "tuple2= (5, \"abc\", 45356.566)"
   ]
  },
  {
   "cell_type": "code",
   "execution_count": 69,
   "id": "669b4f50-729a-48d2-9419-8cbf6fce717a",
   "metadata": {},
   "outputs": [
    {
     "data": {
      "text/plain": [
       "1"
      ]
     },
     "execution_count": 69,
     "metadata": {},
     "output_type": "execute_result"
    }
   ],
   "source": [
    "tuple1[0]"
   ]
  },
  {
   "cell_type": "code",
   "execution_count": 70,
   "id": "25107126-fe27-4fa6-87d2-7561ca38e55b",
   "metadata": {},
   "outputs": [
    {
     "ename": "TypeError",
     "evalue": "'tuple' object does not support item assignment",
     "output_type": "error",
     "traceback": [
      "\u001b[1;31m---------------------------------------------------------------------------\u001b[0m",
      "\u001b[1;31mTypeError\u001b[0m                                 Traceback (most recent call last)",
      "Cell \u001b[1;32mIn[70], line 1\u001b[0m\n\u001b[1;32m----> 1\u001b[0m tuple2[\u001b[38;5;241m0\u001b[39m] \u001b[38;5;241m=\u001b[39m \u001b[38;5;124m\"\u001b[39m\u001b[38;5;124mtest\u001b[39m\u001b[38;5;124m\"\u001b[39m\n",
      "\u001b[1;31mTypeError\u001b[0m: 'tuple' object does not support item assignment"
     ]
    }
   ],
   "source": [
    "tuple2[0] = \"test\""
   ]
  },
  {
   "cell_type": "markdown",
   "id": "1258c2a7-ea8e-4450-88da-5570b4a11ccb",
   "metadata": {},
   "source": [
    "**We can just initialize new tuples, and insert values accordingly**"
   ]
  },
  {
   "cell_type": "code",
   "execution_count": 71,
   "id": "a91bf8e0-0574-4f5c-8fc6-c579234761b7",
   "metadata": {},
   "outputs": [],
   "source": [
    "newTuple = (\"test\",) + tuple2[1:]"
   ]
  },
  {
   "cell_type": "code",
   "execution_count": 72,
   "id": "da3a9961-752a-48c2-aff9-4ecd3640a907",
   "metadata": {},
   "outputs": [
    {
     "data": {
      "text/plain": [
       "('test', 'abc', 45356.566)"
      ]
     },
     "execution_count": 72,
     "metadata": {},
     "output_type": "execute_result"
    }
   ],
   "source": [
    "newTuple"
   ]
  },
  {
   "cell_type": "markdown",
   "id": "0e2773db-8b79-46c2-b51a-fd2e2cfe5dd4",
   "metadata": {},
   "source": [
    "**4.Sets**"
   ]
  },
  {
   "cell_type": "markdown",
   "id": "13a7fbd1-9100-4445-870d-48d3b2f9021a",
   "metadata": {},
   "source": [
    "**Sets are unordered, unchangeable, unindexed and do not allow duplicate values**"
   ]
  },
  {
   "cell_type": "markdown",
   "id": "3344a6d7-058a-4920-89b7-3cc1c9fcdb36",
   "metadata": {},
   "source": [
    "**You cannot change its items, but you can add and remove items**"
   ]
  },
  {
   "cell_type": "code",
   "execution_count": 77,
   "id": "a1545f35-1977-4236-964f-c9ee737f396d",
   "metadata": {},
   "outputs": [],
   "source": [
    "fruit_set = {\"apple\", \"banana\", \"orange\", \"apple\"}"
   ]
  },
  {
   "cell_type": "code",
   "execution_count": 78,
   "id": "843e1bdf-e74f-4166-b576-a60c3b6a5a01",
   "metadata": {},
   "outputs": [
    {
     "data": {
      "text/plain": [
       "{'apple', 'banana', 'orange'}"
      ]
     },
     "execution_count": 78,
     "metadata": {},
     "output_type": "execute_result"
    }
   ],
   "source": [
    "fruit_set"
   ]
  },
  {
   "cell_type": "code",
   "execution_count": 79,
   "id": "8668e1a8-9e6a-4694-9252-32575b793cdd",
   "metadata": {},
   "outputs": [],
   "source": [
    "fruit_set.add(\"banana\")"
   ]
  },
  {
   "cell_type": "code",
   "execution_count": 80,
   "id": "d7f87c8d-62a5-4b01-a595-47b98d9e0fee",
   "metadata": {},
   "outputs": [
    {
     "data": {
      "text/plain": [
       "{'apple', 'banana', 'orange'}"
      ]
     },
     "execution_count": 80,
     "metadata": {},
     "output_type": "execute_result"
    }
   ],
   "source": [
    "fruit_set"
   ]
  },
  {
   "cell_type": "code",
   "execution_count": 81,
   "id": "f859ca67-15f0-47ce-9822-b50f5c0367f4",
   "metadata": {},
   "outputs": [],
   "source": [
    "fruit_set.add(\"malinki\")"
   ]
  },
  {
   "cell_type": "code",
   "execution_count": 82,
   "id": "34d15f97-7549-4714-8b90-260e4d5a3944",
   "metadata": {},
   "outputs": [
    {
     "data": {
      "text/plain": [
       "{'apple', 'banana', 'malinki', 'orange'}"
      ]
     },
     "execution_count": 82,
     "metadata": {},
     "output_type": "execute_result"
    }
   ],
   "source": [
    "fruit_set"
   ]
  },
  {
   "cell_type": "code",
   "execution_count": 83,
   "id": "0ae3667d-d601-4935-9cda-bd8fd364d37a",
   "metadata": {},
   "outputs": [
    {
     "ename": "TypeError",
     "evalue": "'set' object is not subscriptable",
     "output_type": "error",
     "traceback": [
      "\u001b[1;31m---------------------------------------------------------------------------\u001b[0m",
      "\u001b[1;31mTypeError\u001b[0m                                 Traceback (most recent call last)",
      "Cell \u001b[1;32mIn[83], line 1\u001b[0m\n\u001b[1;32m----> 1\u001b[0m fruit_set[\u001b[38;5;241m0\u001b[39m]\n",
      "\u001b[1;31mTypeError\u001b[0m: 'set' object is not subscriptable"
     ]
    }
   ],
   "source": [
    "fruit_set[0]"
   ]
  },
  {
   "cell_type": "markdown",
   "id": "24a483cc-ce6e-43f5-a2c7-96025e81fe6c",
   "metadata": {},
   "source": [
    "**5. Dictionaries and Files**"
   ]
  },
  {
   "cell_type": "markdown",
   "id": "766e67fc-2d9c-4a13-869e-258c935509f4",
   "metadata": {},
   "source": [
    "**Dictionaries are ordered, changeable, but do not allow duplicates**"
   ]
  },
  {
   "cell_type": "code",
   "execution_count": 104,
   "id": "f7c0b519-7a4e-4fa0-aeb0-d647233ce71f",
   "metadata": {},
   "outputs": [],
   "source": [
    "person = {\n",
    "    \"name\" : \"Nat\",\n",
    "    \"surname\" : \"G\",\n",
    "    \"embg\" : \"211526\",\n",
    "    \"age\" : 22,\n",
    "    \"height\" : 164.5\n",
    "}"
   ]
  },
  {
   "cell_type": "code",
   "execution_count": 89,
   "id": "00746c99-6a86-4ffb-86fe-42cf618f231d",
   "metadata": {},
   "outputs": [
    {
     "name": "stdout",
     "output_type": "stream",
     "text": [
      "{'name': 'Nat', 'surname': 'G', 'embg': '211526', 'age': 22, 'height': 164.5}\n"
     ]
    }
   ],
   "source": [
    "print(person)"
   ]
  },
  {
   "cell_type": "code",
   "execution_count": 90,
   "id": "33a9dcdd-03d0-45e8-9fa2-0a9c83dba1f7",
   "metadata": {},
   "outputs": [
    {
     "name": "stdout",
     "output_type": "stream",
     "text": [
      "Nat\n"
     ]
    }
   ],
   "source": [
    "print(person[\"name\"])"
   ]
  },
  {
   "cell_type": "code",
   "execution_count": 91,
   "id": "b79b6bd6-6e94-4bc1-bd98-11f114460273",
   "metadata": {},
   "outputs": [
    {
     "data": {
      "text/plain": [
       "'Nat'"
      ]
     },
     "execution_count": 91,
     "metadata": {},
     "output_type": "execute_result"
    }
   ],
   "source": [
    "person[\"name\"]"
   ]
  },
  {
   "cell_type": "code",
   "execution_count": 92,
   "id": "1b087958-3ebf-48b9-a629-e8c016367bfc",
   "metadata": {},
   "outputs": [
    {
     "data": {
      "text/plain": [
       "<function dict.keys>"
      ]
     },
     "execution_count": 92,
     "metadata": {},
     "output_type": "execute_result"
    }
   ],
   "source": [
    "person.keys"
   ]
  },
  {
   "cell_type": "code",
   "execution_count": 93,
   "id": "9b475433-2e24-483d-8ee8-33a2c74b482c",
   "metadata": {},
   "outputs": [
    {
     "data": {
      "text/plain": [
       "dict_keys(['name', 'surname', 'embg', 'age', 'height'])"
      ]
     },
     "execution_count": 93,
     "metadata": {},
     "output_type": "execute_result"
    }
   ],
   "source": [
    "person.keys()"
   ]
  },
  {
   "cell_type": "code",
   "execution_count": 94,
   "id": "4ac73c1f-866f-4fe2-ba0a-1909acd96aaf",
   "metadata": {},
   "outputs": [
    {
     "name": "stdout",
     "output_type": "stream",
     "text": [
      "dict_keys(['name', 'surname', 'embg', 'age', 'height'])\n"
     ]
    }
   ],
   "source": [
    "print(person.keys())"
   ]
  },
  {
   "cell_type": "code",
   "execution_count": 95,
   "id": "65efe004-68bf-4821-bcdd-e0b48a493f12",
   "metadata": {},
   "outputs": [],
   "source": [
    "def pechatenjeRechnik(dict_object):\n",
    "    for k in dict_object.keys():\n",
    "        print(k, \"-->\", dict_object[k])"
   ]
  },
  {
   "cell_type": "markdown",
   "id": "154eb3c8-6dd0-4ec4-8a30-945b783aa561",
   "metadata": {},
   "source": [
    "**dodavanje na nov element vo rechnikot**"
   ]
  },
  {
   "cell_type": "code",
   "execution_count": 96,
   "id": "aa243b1e-01df-4057-adf8-8f9b2c327522",
   "metadata": {},
   "outputs": [],
   "source": [
    "person[\"is_student\"]=True"
   ]
  },
  {
   "cell_type": "code",
   "execution_count": 97,
   "id": "6297c0a5-7897-41d7-8212-b699915c80a1",
   "metadata": {},
   "outputs": [
    {
     "name": "stdout",
     "output_type": "stream",
     "text": [
      "{'name': 'Nat', 'surname': 'G', 'embg': '211526', 'age': 22, 'height': 164.5, 'is_student': True}\n"
     ]
    }
   ],
   "source": [
    "print(person)"
   ]
  },
  {
   "cell_type": "code",
   "execution_count": 98,
   "id": "649da6a1-725e-4d68-a7b6-d34a839a013e",
   "metadata": {},
   "outputs": [
    {
     "name": "stdout",
     "output_type": "stream",
     "text": [
      "name --> Nat\n",
      "surname --> G\n",
      "embg --> 211526\n",
      "age --> 22\n",
      "height --> 164.5\n",
      "is_student --> True\n"
     ]
    }
   ],
   "source": [
    "pechatenjeRechnik(person)"
   ]
  },
  {
   "cell_type": "markdown",
   "id": "a6616c21-a52f-4a37-a3a5-29ac2b3c245b",
   "metadata": {},
   "source": [
    "**dodavanje na lista vo rechnik**"
   ]
  },
  {
   "cell_type": "code",
   "execution_count": 100,
   "id": "df95518f-76af-43f8-aed4-8f870d8924a8",
   "metadata": {},
   "outputs": [],
   "source": [
    "coursesList = [\"Data Science\", \"Business\", \"Web Development\"]"
   ]
  },
  {
   "cell_type": "code",
   "execution_count": 101,
   "id": "29999dd0-8f91-4fc1-bd75-449efdede651",
   "metadata": {},
   "outputs": [],
   "source": [
    "person[\"teaches\"] = coursesList"
   ]
  },
  {
   "cell_type": "code",
   "execution_count": 103,
   "id": "19a041be-3e3f-4b76-baaa-daf5631535b0",
   "metadata": {},
   "outputs": [
    {
     "name": "stdout",
     "output_type": "stream",
     "text": [
      "name --> Nat\n",
      "surname --> G\n",
      "embg --> 211526\n",
      "age --> 22\n",
      "height --> 164.5\n",
      "is_student --> True\n",
      "teaches --> ['Data Science', 'Business', 'Web Development']\n"
     ]
    }
   ],
   "source": [
    "pechatenjeRechnik(person)"
   ]
  },
  {
   "cell_type": "code",
   "execution_count": 108,
   "id": "419ccae8-839f-4593-ac16-5917ce8b57e0",
   "metadata": {},
   "outputs": [],
   "source": [
    "carDict = { \n",
    "    \"make\" : \"Lambo\",\n",
    "    \"model\" : \"Aven\",\n",
    "    \"hp\" : 1000,\n",
    "}"
   ]
  },
  {
   "cell_type": "code",
   "execution_count": 109,
   "id": "bbc84c2d-c00b-43ad-8f55-b4dffd7247c6",
   "metadata": {},
   "outputs": [],
   "source": [
    "person[\"car\"] = carDict"
   ]
  },
  {
   "cell_type": "code",
   "execution_count": 110,
   "id": "1ee1f6d9-b8a1-47f5-8db0-70a768d70f6b",
   "metadata": {},
   "outputs": [
    {
     "name": "stdout",
     "output_type": "stream",
     "text": [
      "name --> Nat\n",
      "surname --> G\n",
      "embg --> 211526\n",
      "age --> 22\n",
      "height --> 164.5\n",
      "car --> {'make': 'Lambo', 'model': 'Aven', 'hp': 1000}\n"
     ]
    }
   ],
   "source": [
    "pechatenjeRechnik(person)"
   ]
  },
  {
   "cell_type": "markdown",
   "id": "f5e500db-4679-44a9-bbab-c6f4c3eaee3b",
   "metadata": {},
   "source": [
    "**vadenje na element od rechnik**"
   ]
  },
  {
   "cell_type": "code",
   "execution_count": 111,
   "id": "f9bd77c5-74b1-460e-8f33-162245fcb0a1",
   "metadata": {},
   "outputs": [
    {
     "data": {
      "text/plain": [
       "{'make': 'Lambo', 'model': 'Aven', 'hp': 1000}"
      ]
     },
     "execution_count": 111,
     "metadata": {},
     "output_type": "execute_result"
    }
   ],
   "source": [
    "person.pop(\"car\")"
   ]
  },
  {
   "cell_type": "code",
   "execution_count": 112,
   "id": "5c85d6c2-0aaf-4f2c-87b3-e018fc2e2564",
   "metadata": {},
   "outputs": [
    {
     "name": "stdout",
     "output_type": "stream",
     "text": [
      "name --> Nat\n",
      "surname --> G\n",
      "embg --> 211526\n",
      "age --> 22\n",
      "height --> 164.5\n"
     ]
    }
   ],
   "source": [
    "pechatenjeRechnik(person)"
   ]
  },
  {
   "cell_type": "code",
   "execution_count": 114,
   "id": "5be61853-da08-4922-a765-6f66d6d4d997",
   "metadata": {},
   "outputs": [
    {
     "name": "stdout",
     "output_type": "stream",
     "text": [
      "{'name': 'Nat', 'surname': 'G', 'embg': '211526', 'age': 22, 'height': 164.5}\n"
     ]
    }
   ],
   "source": [
    "print(person)"
   ]
  },
  {
   "cell_type": "code",
   "execution_count": 115,
   "id": "53fd232c-5e1b-479a-b2c6-0351470f8b39",
   "metadata": {},
   "outputs": [],
   "source": [
    "person[\"car\"] = carDict"
   ]
  },
  {
   "cell_type": "code",
   "execution_count": 116,
   "id": "60e5adf2-f037-44ad-ae06-1acd0bbfa04f",
   "metadata": {},
   "outputs": [
    {
     "name": "stdout",
     "output_type": "stream",
     "text": [
      "{'name': 'Nat', 'surname': 'G', 'embg': '211526', 'age': 22, 'height': 164.5, 'car': {'make': 'Lambo', 'model': 'Aven', 'hp': 1000}}\n"
     ]
    }
   ],
   "source": [
    "print(person)"
   ]
  },
  {
   "cell_type": "code",
   "execution_count": 117,
   "id": "617a3250-db3c-4b83-9001-0a01fe0c0768",
   "metadata": {},
   "outputs": [
    {
     "name": "stdout",
     "output_type": "stream",
     "text": [
      "name --> Nat\n",
      "surname --> G\n",
      "embg --> 211526\n",
      "age --> 22\n",
      "height --> 164.5\n",
      "car --> {'make': 'Lambo', 'model': 'Aven', 'hp': 1000}\n"
     ]
    }
   ],
   "source": [
    "pechatenjeRechnik(person)"
   ]
  },
  {
   "cell_type": "code",
   "execution_count": 118,
   "id": "fa963cbd-dcc0-4be3-81fc-d1567e74d13c",
   "metadata": {},
   "outputs": [],
   "source": [
    "person[\"teaches\"] = coursesList"
   ]
  },
  {
   "cell_type": "code",
   "execution_count": 119,
   "id": "2ba2f5ad-297d-45d7-ac03-e8d8cb0293ed",
   "metadata": {},
   "outputs": [
    {
     "name": "stdout",
     "output_type": "stream",
     "text": [
      "name --> Nat\n",
      "surname --> G\n",
      "embg --> 211526\n",
      "age --> 22\n",
      "height --> 164.5\n",
      "car --> {'make': 'Lambo', 'model': 'Aven', 'hp': 1000}\n",
      "teaches --> ['Data Science', 'Business', 'Web Development']\n"
     ]
    }
   ],
   "source": [
    "pechatenjeRechnik(person)"
   ]
  },
  {
   "cell_type": "code",
   "execution_count": 120,
   "id": "38b0060a-d044-43d5-a0a9-425c9bfe71e3",
   "metadata": {},
   "outputs": [],
   "source": [
    "person[\"is_student\"]=True"
   ]
  },
  {
   "cell_type": "code",
   "execution_count": 121,
   "id": "77cb89f2-8cd5-49ac-898f-cb29ce6b56a6",
   "metadata": {},
   "outputs": [
    {
     "name": "stdout",
     "output_type": "stream",
     "text": [
      "name --> Nat\n",
      "surname --> G\n",
      "embg --> 211526\n",
      "age --> 22\n",
      "height --> 164.5\n",
      "car --> {'make': 'Lambo', 'model': 'Aven', 'hp': 1000}\n",
      "teaches --> ['Data Science', 'Business', 'Web Development']\n",
      "is_student --> True\n"
     ]
    }
   ],
   "source": [
    "pechatenjeRechnik(person)"
   ]
  },
  {
   "cell_type": "markdown",
   "id": "7bd327f3-0a6a-4bd5-835f-998b5c0a8195",
   "metadata": {},
   "source": [
    "**6. Numpy and Pandas**"
   ]
  },
  {
   "cell_type": "markdown",
   "id": "0011c075-3d7d-4846-b20e-8b0cd7361213",
   "metadata": {},
   "source": [
    "**NumPy is a Python library used for working with arrays**"
   ]
  },
  {
   "cell_type": "code",
   "execution_count": 124,
   "id": "1589cfac-58d3-463f-bee8-f4e0afc0b898",
   "metadata": {},
   "outputs": [],
   "source": [
    "import numpy as np\n",
    "import pandas as pd"
   ]
  },
  {
   "cell_type": "code",
   "execution_count": 126,
   "id": "9d6ee59c-db12-4978-9f8d-115523a49994",
   "metadata": {},
   "outputs": [],
   "source": [
    "niza = np.array([1,2,5,6])"
   ]
  },
  {
   "cell_type": "code",
   "execution_count": 127,
   "id": "0d597c39-99f7-4134-a9d9-1a7748e745c8",
   "metadata": {},
   "outputs": [
    {
     "data": {
      "text/plain": [
       "array([1, 2, 5, 6])"
      ]
     },
     "execution_count": 127,
     "metadata": {},
     "output_type": "execute_result"
    }
   ],
   "source": [
    "niza"
   ]
  },
  {
   "cell_type": "code",
   "execution_count": 128,
   "id": "da361cb5-55c9-4c9b-ad97-e8bcdf4b64ec",
   "metadata": {},
   "outputs": [],
   "source": [
    "nizaMixed = np.array([1,2,24.4,6,\"test\"])"
   ]
  },
  {
   "cell_type": "markdown",
   "id": "698904e5-c172-431a-82da-fd5da195c26c",
   "metadata": {},
   "source": [
    "**dtype indicira kakov tip na elementi se vo NumPy**"
   ]
  },
  {
   "cell_type": "markdown",
   "id": "dd308c52-ecdc-4c52-b8a8-68585018362f",
   "metadata": {},
   "source": [
    "**When creating a NumPy array, all elements must be of the same type. Since the array nizaMixed includes a mix of integers, a float and a string, NumPy automatically converts all elements to strings to keep the data type consistent in the array**"
   ]
  },
  {
   "cell_type": "code",
   "execution_count": 129,
   "id": "3d1fb548-41e2-41d8-bbb5-b889e2a628ae",
   "metadata": {},
   "outputs": [
    {
     "data": {
      "text/plain": [
       "array(['1', '2', '24.4', '6', 'test'], dtype='<U32')"
      ]
     },
     "execution_count": 129,
     "metadata": {},
     "output_type": "execute_result"
    }
   ],
   "source": [
    "nizaMixed"
   ]
  },
  {
   "cell_type": "code",
   "execution_count": 130,
   "id": "27ee0910-3835-4654-8b44-d6af45fdb621",
   "metadata": {},
   "outputs": [
    {
     "name": "stdout",
     "output_type": "stream",
     "text": [
      "['1' '2' '24.4' '6' 'test']\n"
     ]
    }
   ],
   "source": [
    "nizaMixed"
   ]
  },
  {
   "cell_type": "markdown",
   "id": "147a185b-a016-44d9-bcd7-d3fcb8300c06",
   "metadata": {},
   "source": [
    "**.ndim returns the number of dimensions of the array**"
   ]
  },
  {
   "cell_type": "code",
   "execution_count": 133,
   "id": "69ade159-dd09-46fe-a223-221a40edd679",
   "metadata": {},
   "outputs": [
    {
     "data": {
      "text/plain": [
       "1"
      ]
     },
     "execution_count": 133,
     "metadata": {},
     "output_type": "execute_result"
    }
   ],
   "source": [
    "nizaMixed.ndim"
   ]
  },
  {
   "cell_type": "markdown",
   "id": "32b259ba-2d5f-4f6f-b778-00c22ff97457",
   "metadata": {},
   "source": [
    "**.shape returns dimensions of the array as a tuple.**"
   ]
  },
  {
   "cell_type": "markdown",
   "id": "e5dd85df-d5ed-43b8-b823-0aeeed93664a",
   "metadata": {},
   "source": [
    "**nizaMixed is a 1 dimensional array with 5 elements**"
   ]
  },
  {
   "cell_type": "code",
   "execution_count": 134,
   "id": "643bcf5f-6d02-45b3-9577-3ebac1dfc3d5",
   "metadata": {},
   "outputs": [
    {
     "data": {
      "text/plain": [
       "(5,)"
      ]
     },
     "execution_count": 134,
     "metadata": {},
     "output_type": "execute_result"
    }
   ],
   "source": [
    "nizaMixed.shape"
   ]
  },
  {
   "cell_type": "markdown",
   "id": "52f7cccc-1a9d-470d-8acf-32b874715b8e",
   "metadata": {},
   "source": [
    "**7. 2d arrays**"
   ]
  },
  {
   "cell_type": "code",
   "execution_count": 137,
   "id": "e78e1a37-69a2-4d4b-8fb0-54a5423ba25b",
   "metadata": {},
   "outputs": [],
   "source": [
    "matrica = np.array ([\n",
    "    [1,5,6,7],\n",
    "    [2,4,2,2],\n",
    "])"
   ]
  },
  {
   "cell_type": "code",
   "execution_count": 138,
   "id": "f14afc21-3779-410c-b346-e5ba6f18cc20",
   "metadata": {},
   "outputs": [
    {
     "data": {
      "text/plain": [
       "array([[1, 5, 6, 7],\n",
       "       [2, 4, 2, 2]])"
      ]
     },
     "execution_count": 138,
     "metadata": {},
     "output_type": "execute_result"
    }
   ],
   "source": [
    "matrica"
   ]
  },
  {
   "cell_type": "code",
   "execution_count": 139,
   "id": "c051feab-fdc3-481b-8779-eb4ee8afe6d8",
   "metadata": {},
   "outputs": [
    {
     "name": "stdout",
     "output_type": "stream",
     "text": [
      "[[1 5 6 7]\n",
      " [2 4 2 2]]\n"
     ]
    }
   ],
   "source": [
    "print(matrica)"
   ]
  },
  {
   "cell_type": "code",
   "execution_count": 140,
   "id": "6024c753-ff9d-4ccf-a83d-2cc155cd782f",
   "metadata": {},
   "outputs": [
    {
     "data": {
      "text/plain": [
       "(2, 4)"
      ]
     },
     "execution_count": 140,
     "metadata": {},
     "output_type": "execute_result"
    }
   ],
   "source": [
    "matrica.shape"
   ]
  },
  {
   "cell_type": "code",
   "execution_count": 141,
   "id": "e906ac20-5407-4f74-ab16-698f6ab99cb9",
   "metadata": {},
   "outputs": [
    {
     "data": {
      "text/plain": [
       "2"
      ]
     },
     "execution_count": 141,
     "metadata": {},
     "output_type": "execute_result"
    }
   ],
   "source": [
    "matrica.ndim"
   ]
  },
  {
   "cell_type": "code",
   "execution_count": 143,
   "id": "468fa0f7-b83d-441e-939d-8d010d6682db",
   "metadata": {},
   "outputs": [
    {
     "data": {
      "text/plain": [
       "array([1, 2, 5, 6])"
      ]
     },
     "execution_count": 143,
     "metadata": {},
     "output_type": "execute_result"
    }
   ],
   "source": [
    "niza"
   ]
  },
  {
   "cell_type": "code",
   "execution_count": 144,
   "id": "7b8eea41-dbe1-4ead-86c3-7b54229877e2",
   "metadata": {},
   "outputs": [
    {
     "data": {
      "text/plain": [
       "array([[1, 5, 6, 7],\n",
       "       [2, 4, 2, 2]])"
      ]
     },
     "execution_count": 144,
     "metadata": {},
     "output_type": "execute_result"
    }
   ],
   "source": [
    "matrica"
   ]
  },
  {
   "cell_type": "markdown",
   "id": "fc575629-6a1b-4985-b5bb-fafd39427489",
   "metadata": {},
   "source": [
    "**niza+matrica ke ja soberi nizata so sekoja dimenzija na matricata**"
   ]
  },
  {
   "cell_type": "code",
   "execution_count": 145,
   "id": "8cd97a08-f8ff-4c57-8fce-6615a4d3b893",
   "metadata": {},
   "outputs": [
    {
     "data": {
      "text/plain": [
       "array([[ 2,  7, 11, 13],\n",
       "       [ 3,  6,  7,  8]])"
      ]
     },
     "execution_count": 145,
     "metadata": {},
     "output_type": "execute_result"
    }
   ],
   "source": [
    "niza + matrica"
   ]
  },
  {
   "cell_type": "markdown",
   "id": "98a8b03c-1b4e-4a28-acdd-0a7674e81f8e",
   "metadata": {},
   "source": [
    "**8. Pandas DataFrames**"
   ]
  },
  {
   "cell_type": "code",
   "execution_count": 146,
   "id": "ed3b9127-e9be-4e8c-85c1-ea666c17fd43",
   "metadata": {},
   "outputs": [],
   "source": [
    "dataDict = {\n",
    "    \"index\" : [1235, 43534, 43253, 54353],\n",
    "    \"name\" : [\"Nat\", \"Marija\", \"Angela\", \"Evgenija\"],\n",
    "    \"grade\" : [5,6,7,8]\n",
    "}"
   ]
  },
  {
   "cell_type": "code",
   "execution_count": 147,
   "id": "1e9c14d8-34d3-4108-8dbd-c48bf7b16a6d",
   "metadata": {},
   "outputs": [
    {
     "name": "stdout",
     "output_type": "stream",
     "text": [
      "{'index': [1235, 43534, 43253, 54353], 'name': ['Nat', 'Marija', 'Angela', 'Evgenija'], 'grade': [5, 6, 7, 8]}\n"
     ]
    }
   ],
   "source": [
    "print(dataDict)"
   ]
  },
  {
   "cell_type": "code",
   "execution_count": 148,
   "id": "d825c5f6-441a-49fd-a8a1-67b9eaf1e9cb",
   "metadata": {},
   "outputs": [
    {
     "data": {
      "text/plain": [
       "{'index': [1235, 43534, 43253, 54353],\n",
       " 'name': ['Nat', 'Marija', 'Angela', 'Evgenija'],\n",
       " 'grade': [5, 6, 7, 8]}"
      ]
     },
     "execution_count": 148,
     "metadata": {},
     "output_type": "execute_result"
    }
   ],
   "source": [
    "dataDict"
   ]
  },
  {
   "cell_type": "markdown",
   "id": "2860ae9e-cc24-41a6-b855-160146e51a05",
   "metadata": {},
   "source": [
    "**Takes the dictionary and converts it into a table**"
   ]
  },
  {
   "cell_type": "code",
   "execution_count": 149,
   "id": "0db7ab96-dd22-4b74-9e67-b0ea373a071e",
   "metadata": {},
   "outputs": [],
   "source": [
    "df = pd.DataFrame(dataDict)"
   ]
  },
  {
   "cell_type": "code",
   "execution_count": 150,
   "id": "1522f1aa-61bb-4782-ac03-43848a997dac",
   "metadata": {},
   "outputs": [
    {
     "data": {
      "text/html": [
       "<div>\n",
       "<style scoped>\n",
       "    .dataframe tbody tr th:only-of-type {\n",
       "        vertical-align: middle;\n",
       "    }\n",
       "\n",
       "    .dataframe tbody tr th {\n",
       "        vertical-align: top;\n",
       "    }\n",
       "\n",
       "    .dataframe thead th {\n",
       "        text-align: right;\n",
       "    }\n",
       "</style>\n",
       "<table border=\"1\" class=\"dataframe\">\n",
       "  <thead>\n",
       "    <tr style=\"text-align: right;\">\n",
       "      <th></th>\n",
       "      <th>index</th>\n",
       "      <th>name</th>\n",
       "      <th>grade</th>\n",
       "    </tr>\n",
       "  </thead>\n",
       "  <tbody>\n",
       "    <tr>\n",
       "      <th>0</th>\n",
       "      <td>1235</td>\n",
       "      <td>Nat</td>\n",
       "      <td>5</td>\n",
       "    </tr>\n",
       "    <tr>\n",
       "      <th>1</th>\n",
       "      <td>43534</td>\n",
       "      <td>Marija</td>\n",
       "      <td>6</td>\n",
       "    </tr>\n",
       "    <tr>\n",
       "      <th>2</th>\n",
       "      <td>43253</td>\n",
       "      <td>Angela</td>\n",
       "      <td>7</td>\n",
       "    </tr>\n",
       "    <tr>\n",
       "      <th>3</th>\n",
       "      <td>54353</td>\n",
       "      <td>Evgenija</td>\n",
       "      <td>8</td>\n",
       "    </tr>\n",
       "  </tbody>\n",
       "</table>\n",
       "</div>"
      ],
      "text/plain": [
       "   index      name  grade\n",
       "0   1235       Nat      5\n",
       "1  43534    Marija      6\n",
       "2  43253    Angela      7\n",
       "3  54353  Evgenija      8"
      ]
     },
     "execution_count": 150,
     "metadata": {},
     "output_type": "execute_result"
    }
   ],
   "source": [
    "df"
   ]
  },
  {
   "cell_type": "code",
   "execution_count": 151,
   "id": "936a5ef6-accd-47d7-8efc-69b1ce6cdb0a",
   "metadata": {},
   "outputs": [
    {
     "name": "stdout",
     "output_type": "stream",
     "text": [
      "   index      name  grade\n",
      "0   1235       Nat      5\n",
      "1  43534    Marija      6\n",
      "2  43253    Angela      7\n",
      "3  54353  Evgenija      8\n"
     ]
    }
   ],
   "source": [
    "print(df)"
   ]
  },
  {
   "cell_type": "code",
   "execution_count": 152,
   "id": "aad4d710-f49b-4382-b317-8888ea0fe324",
   "metadata": {},
   "outputs": [],
   "source": [
    "df.to_csv('grades.csv')"
   ]
  },
  {
   "cell_type": "code",
   "execution_count": null,
   "id": "fdd78ef0-931d-4691-a13a-859246b75c6e",
   "metadata": {},
   "outputs": [],
   "source": []
  }
 ],
 "metadata": {
  "kernelspec": {
   "display_name": "Python 3 (ipykernel)",
   "language": "python",
   "name": "python3"
  },
  "language_info": {
   "codemirror_mode": {
    "name": "ipython",
    "version": 3
   },
   "file_extension": ".py",
   "mimetype": "text/x-python",
   "name": "python",
   "nbconvert_exporter": "python",
   "pygments_lexer": "ipython3",
   "version": "3.12.7"
  }
 },
 "nbformat": 4,
 "nbformat_minor": 5
}
