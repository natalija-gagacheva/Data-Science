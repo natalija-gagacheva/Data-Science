{
 "cells": [
  {
   "cell_type": "markdown",
   "id": "f0fee353-c851-4aad-869f-918335a98aae",
   "metadata": {},
   "source": [
    "**Lab Exercise 1. Scraping Static Websites**"
   ]
  },
  {
   "cell_type": "markdown",
   "id": "eeadb6a5-ef8a-4372-b6ba-6bdb4950b776",
   "metadata": {},
   "source": [
    "**Task Description**"
   ]
  },
  {
   "cell_type": "markdown",
   "id": "63162c27-b389-4de8-bbbb-32079884138d",
   "metadata": {},
   "source": [
    "Scrape the information about the products on the following page: https://clevershop.mk/product-category/mobilni-laptopi-i-tableti/"
   ]
  },
  {
   "cell_type": "markdown",
   "id": "c8a3189d-1a19-4a62-860d-830268774b9a",
   "metadata": {},
   "source": [
    "**Import libraries**"
   ]
  },
  {
   "cell_type": "code",
   "execution_count": 7,
   "id": "243b335a-fd4b-4460-a0be-2d06699cd7c9",
   "metadata": {},
   "outputs": [],
   "source": [
    "import requests\n",
    "from bs4 import BeautifulSoup\n",
    "import pandas as pd"
   ]
  },
  {
   "cell_type": "markdown",
   "id": "7a3eeeba-55a3-42a7-a5a1-f196bf21652c",
   "metadata": {},
   "source": [
    "**Scraping**"
   ]
  },
  {
   "cell_type": "code",
   "execution_count": 9,
   "id": "e2c215de-d1d5-463c-a0f9-a22fc8e059f9",
   "metadata": {},
   "outputs": [],
   "source": [
    "baseURL = \"https://clevershop.mk/product-category/mobilni-laptopi-i-tableti\""
   ]
  },
  {
   "cell_type": "markdown",
   "id": "3de99423-8282-42bd-9051-9f81b4cfd288",
   "metadata": {},
   "source": [
    "**Send a HTTP request to fetch page URL and create a BeautifulSoup object in order to parse the page content, before you can select elements from it**"
   ]
  },
  {
   "cell_type": "code",
   "execution_count": 11,
   "id": "d593d64b-7765-43cb-8de4-0782a3298a3a",
   "metadata": {
    "collapsed": true,
    "jupyter": {
     "outputs_hidden": true
    },
    "scrolled": true
   },
   "outputs": [
    {
     "name": "stdout",
     "output_type": "stream",
     "text": [
      "<div class=\"product-grid-item product wd-hover-standard col-lg-3 col-md-3 col-6 first type-product post-21494 status-publish instock product_cat-laptopi has-post-thumbnail taxable shipping-taxable purchasable product-type-simple\" data-id=\"21494\" data-loop=\"1\"><div class=\"berocket_better_labels berocket_better_labels_image\"><div class=\"berocket_better_labels_position berocket_better_labels_position_right\"><div class=\"berocket_better_labels_line berocket_better_labels_line_1\"><div class=\"berocket_better_labels_inline berocket_better_labels_inline_1\"><div class=\"br_alabel br_alabel_type_text br_alabel_template_type_image berocket_alabel_id_14967 berocket-label-user-image br_alabel_better_compatibility\" style=\"\"><span class=\"berocket-label-user-image\" style=\" background: transparent url('https://clevershop.mk/wp-content/uploads/2023/05/majska-popust.png') no-repeat right top/contain;\"><i class=\"template-span-before\" style=\"background-color: #f16543; border-color: #f16543;\"></i><i class=\"template-i\" style=\"background-color: #f16543; border-color: #f16543;\"></i><i class=\"template-i-before\" style=\"background-color: #f16543; border-color: #f16543;\"></i><i class=\"template-i-after\" style=\"background-color: #f16543; border-color: #f16543;\"></i><b class=\"br-labels-image br-labels-image-1000\" style=\"text-align: center;z-index: 100;display: none;\">SALE</b></span></div></div></div></div></div><div class=\"product-wrapper\"><div class=\"product-element-top wd-quick-shop\">\n",
      "<a class=\"product-image-link\" href=\"https://clevershop.mk/product/acer-a315-23-a7kd/\">\n",
      "<img alt=\"\" class=\"attachment-woocommerce_thumbnail size-woocommerce_thumbnail wp-image-21495\" data-lazyloaded=\"1\" data-sizes=\"(max-width: 600px) 100vw, 600px\" data-src=\"https://clevershop.mk/wp-content/uploads/2022/08/acer-a315-23-a7kd-nxhvuex037_62ae121eb61d9-600x600.png\" data-srcset=\"https://clevershop.mk/wp-content/uploads/2022/08/acer-a315-23-a7kd-nxhvuex037_62ae121eb61d9-600x600.png 600w, https://clevershop.mk/wp-content/uploads/2022/08/acer-a315-23-a7kd-nxhvuex037_62ae121eb61d9-300x300.png 300w, https://clevershop.mk/wp-content/uploads/2022/08/acer-a315-23-a7kd-nxhvuex037_62ae121eb61d9-150x150.png 150w, https://clevershop.mk/wp-content/uploads/2022/08/acer-a315-23-a7kd-nxhvuex037_62ae121eb61d9-768x768.png 768w, https://clevershop.mk/wp-content/uploads/2022/08/acer-a315-23-a7kd-nxhvuex037_62ae121eb61d9-12x12.png 12w, https://clevershop.mk/wp-content/uploads/2022/08/acer-a315-23-a7kd-nxhvuex037_62ae121eb61d9.png 800w\" decoding=\"async\" height=\"600\" loading=\"lazy\" src=\"data:image/svg+xml;base64,PHN2ZyB4bWxucz0iaHR0cDovL3d3dy53My5vcmcvMjAwMC9zdmciIHdpZHRoPSI2MDAiIGhlaWdodD0iNjAwIiB2aWV3Qm94PSIwIDAgNjAwIDYwMCI+PHJlY3Qgd2lkdGg9IjEwMCUiIGhlaWdodD0iMTAwJSIgZmlsbD0iI2NmZDRkYiIvPjwvc3ZnPg==\" width=\"600\"/> </a><div class=\"hover-img\">\n",
      "<a href=\"https://clevershop.mk/product/acer-a315-23-a7kd/\">\n",
      "<img alt=\"\" class=\"attachment-woocommerce_thumbnail size-woocommerce_thumbnail wp-image-21495\" data-lazyloaded=\"1\" data-sizes=\"(max-width: 600px) 100vw, 600px\" data-src=\"https://clevershop.mk/wp-content/uploads/2022/08/acer-a315-23-a7kd-nxhvuex037_62ae121eb61d9-600x600.png\" data-srcset=\"https://clevershop.mk/wp-content/uploads/2022/08/acer-a315-23-a7kd-nxhvuex037_62ae121eb61d9-600x600.png 600w, https://clevershop.mk/wp-content/uploads/2022/08/acer-a315-23-a7kd-nxhvuex037_62ae121eb61d9-300x300.png 300w, https://clevershop.mk/wp-content/uploads/2022/08/acer-a315-23-a7kd-nxhvuex037_62ae121eb61d9-150x150.png 150w, https://clevershop.mk/wp-content/uploads/2022/08/acer-a315-23-a7kd-nxhvuex037_62ae121eb61d9-768x768.png 768w, https://clevershop.mk/wp-content/uploads/2022/08/acer-a315-23-a7kd-nxhvuex037_62ae121eb61d9-12x12.png 12w, https://clevershop.mk/wp-content/uploads/2022/08/acer-a315-23-a7kd-nxhvuex037_62ae121eb61d9.png 800w\" decoding=\"async\" height=\"600\" loading=\"lazy\" src=\"data:image/svg+xml;base64,PHN2ZyB4bWxucz0iaHR0cDovL3d3dy53My5vcmcvMjAwMC9zdmciIHdpZHRoPSI2MDAiIGhlaWdodD0iNjAwIiB2aWV3Qm94PSIwIDAgNjAwIDYwMCI+PHJlY3Qgd2lkdGg9IjEwMCUiIGhlaWdodD0iMTAwJSIgZmlsbD0iI2NmZDRkYiIvPjwvc3ZnPg==\" width=\"600\"/> </a></div><div class=\"wd-buttons wd-pos-r-t\"></div></div><h3 class=\"wd-entities-title\"><a href=\"https://clevershop.mk/product/acer-a315-23-a7kd/\">Acer A315-23-A7KD</a></h3>\n",
      "<span class=\"price\"><span class=\"woocommerce-Price-amount amount\"><bdi>17.590 <span class=\"woocommerce-Price-currencySymbol\">ден</span></bdi></span></span><div class=\"wd-add-btn wd-add-btn-replace\">\n",
      "<a aria-label=\"Add to cart: “Acer A315-23-A7KD”\" class=\"button product_type_simple add_to_cart_button ajax_add_to_cart add-to-cart-loop\" data-product_id=\"21494\" data-product_sku=\"NX.HVUEX.037\" data-quantity=\"1\" data-success_message=\"“Acer A315-23-A7KD” has been added to your cart\" href=\"?add-to-cart=21494\" rel=\"nofollow\"><span>Додади во кошничка</span></a></div></div></div>\n"
     ]
    }
   ],
   "source": [
    "odgovor = requests.get(baseURL)\n",
    "if odgovor.status_code==200:\n",
    "    soupObject = BeautifulSoup(odgovor.text, 'html.parser')\n",
    "\n",
    "    produkti= soupObject.select('.product')\n",
    "    edenProdukt = produkti[0]\n",
    "\n",
    "    print(edenProdukt)\n",
    "else:\n",
    "    print(\"Failed to retrieve page\")"
   ]
  },
  {
   "cell_type": "code",
   "execution_count": 13,
   "id": "dd92b2a3-db4f-44ed-9b72-954628a318f2",
   "metadata": {},
   "outputs": [],
   "source": [
    "def extractingToDict(produkt):\n",
    "    title = produkt.select_one('.wd-entities-title').text.strip()\n",
    "\n",
    "    #Check for regular price in <del> tag\n",
    "    #This line searches for the regular price inside a del tag. \n",
    "    #<del> tag indicates a crossed out text, in this case the regular price\n",
    "    #so, if a product has a discount this selector should return the regular price\n",
    "    regularPrice = produkt.select_one('span.price del span.woocommerce-Price-amount bdi')\n",
    "    \n",
    "    if regularPrice is None: #if it returns a None object, it means that the regular price is not inside a del tag, therefore it doesn't have a discount\n",
    "        regularPrice = produkt.select_one('span.price span.woocommerce-Price-amount bdi')\n",
    "        \n",
    "    if regularPrice is not None: #in case it has a discount, it will acknowledge there is an object in the <del> tag\n",
    "        regularPrice = regularPrice.text.strip()\n",
    "\n",
    "    #Check for discount price, if available, inside the <ins> tag\n",
    "    discountPrice = produkt.select_one('span.price ins span.woocommerce-Price-amount bdi')\n",
    "    if discountPrice is not None:\n",
    "        discountPrice = discountPrice.text.strip()\n",
    "        \n",
    "    URLtoProduct = produkt.select_one('h3.wd-entities-title a')\n",
    "    if URLtoProduct is not None:\n",
    "        URLtoProduct = URLtoProduct.get(\"href\")\n",
    "        \n",
    "    cartURL = produkt.select_one('div.wd-add-btn-replace a')\n",
    "    if cartURL is not None:\n",
    "        cartURL = cartURL.get(\"href\")\n",
    "\n",
    "    #dodeka sme seuste vo for loop, gi stavame site promenlivi vo Dict\n",
    "    produktDict = {\n",
    "        \"title\": title,\n",
    "        \"regular price\": regularPrice,\n",
    "        \"discount price\": discountPrice,\n",
    "        \"url to product\" : URLtoProduct,\n",
    "        \"add to cart\" : cartURL\n",
    "    }\n",
    "\n",
    "    #nakraj funkcijata mora da vrati DataFrame\n",
    "    return produktDict"
   ]
  },
  {
   "cell_type": "code",
   "execution_count": 15,
   "id": "bddde65b-2572-4188-818b-b5c7c6656236",
   "metadata": {},
   "outputs": [
    {
     "data": {
      "text/plain": [
       "{'title': 'Acer A315-23-A7KD',\n",
       " 'regular price': '17.590\\xa0ден',\n",
       " 'discount price': None,\n",
       " 'url to product': 'https://clevershop.mk/product/acer-a315-23-a7kd/',\n",
       " 'add to cart': '?add-to-cart=21494'}"
      ]
     },
     "execution_count": 15,
     "metadata": {},
     "output_type": "execute_result"
    }
   ],
   "source": [
    "extractingToDict(edenProdukt)"
   ]
  },
  {
   "cell_type": "markdown",
   "id": "4f3ee66a-bb2e-47ab-bae7-af5ad5caeae4",
   "metadata": {},
   "source": [
    "**Collecting products from multiple pages**"
   ]
  },
  {
   "cell_type": "markdown",
   "id": "c2267cba-0986-4cec-b7f7-d2f7ef76635f",
   "metadata": {},
   "source": [
    "**--> Explanation for .format()**"
   ]
  },
  {
   "cell_type": "markdown",
   "id": "ab9bbc85-1017-4ae6-a2f2-5222c779fbc8",
   "metadata": {},
   "source": [
    "Since baseURL has a placeholder { } for the number of the page, when .format(pageNumber) is used, it replaces { } with the current pageNumber value"
   ]
  },
  {
   "cell_type": "markdown",
   "id": "ee8d02ad-71f1-4fa5-a0a2-743ef50fed9e",
   "metadata": {},
   "source": [
    "example: baseUrl = \"https://example.com/products/page/{ }\""
   ]
  },
  {
   "cell_type": "code",
   "execution_count": 17,
   "id": "8d2de3d3-5c6f-46e2-8134-0cf4ee297244",
   "metadata": {},
   "outputs": [],
   "source": [
    "def scrapingMultiplePages(firstPage, lastPage):\n",
    "    #created to store the data for all products across the pages\n",
    "    productsList = []\n",
    "\n",
    "    #loop that iterates over each page in the specified range\n",
    "    for pageNumber in range(firstPage, lastPage+1):\n",
    "        #.format inserts the pageNumber in the baseURL.\n",
    "        URLofThisPage = baseURL.format(pageNumber)\n",
    "        #Send HTTP GET request to fetch the HTML content of each page\n",
    "        odgovor = requests.get(URLofThisPage)\n",
    "        \n",
    "        if odgovor.status_code == 200:\n",
    "            soup = BeautifulSoup(odgovor.text, 'html.parser') #parses the HTML content for easy element selection\n",
    "            produkti = soup.select('.product-grid-item')\n",
    "            \n",
    "            for edenProdukt in produkti:\n",
    "                produktDict = extractingToDict(edenProdukt)\n",
    "                productsList.append(produktDict)\n",
    "        else:\n",
    "            print(\"Failed to retrieve page {pageNumber}\")\n",
    "\n",
    "    return pd.DataFrame(productsList)"
   ]
  },
  {
   "cell_type": "markdown",
   "id": "a5203aff-255f-48ba-8957-e8528d428c26",
   "metadata": {},
   "source": [
    "**Implementing the scraping function**"
   ]
  },
  {
   "cell_type": "code",
   "execution_count": 21,
   "id": "7cb21670-80c6-40d7-88fd-4d64d7138ff5",
   "metadata": {},
   "outputs": [
    {
     "data": {
      "text/html": [
       "<div>\n",
       "<style scoped>\n",
       "    .dataframe tbody tr th:only-of-type {\n",
       "        vertical-align: middle;\n",
       "    }\n",
       "\n",
       "    .dataframe tbody tr th {\n",
       "        vertical-align: top;\n",
       "    }\n",
       "\n",
       "    .dataframe thead th {\n",
       "        text-align: right;\n",
       "    }\n",
       "</style>\n",
       "<table border=\"1\" class=\"dataframe\">\n",
       "  <thead>\n",
       "    <tr style=\"text-align: right;\">\n",
       "      <th></th>\n",
       "      <th>title</th>\n",
       "      <th>regular price</th>\n",
       "      <th>discount price</th>\n",
       "      <th>url to product</th>\n",
       "      <th>add to cart</th>\n",
       "    </tr>\n",
       "  </thead>\n",
       "  <tbody>\n",
       "    <tr>\n",
       "      <th>0</th>\n",
       "      <td>Acer A315-23-A7KD</td>\n",
       "      <td>17.590 ден</td>\n",
       "      <td>None</td>\n",
       "      <td>https://clevershop.mk/product/acer-a315-23-a7kd/</td>\n",
       "      <td>?add-to-cart=21494</td>\n",
       "    </tr>\n",
       "    <tr>\n",
       "      <th>1</th>\n",
       "      <td>Acer A315-23-R5P2</td>\n",
       "      <td>27.490 ден</td>\n",
       "      <td>None</td>\n",
       "      <td>https://clevershop.mk/product/acer-a315-23-r5p2/</td>\n",
       "      <td>?add-to-cart=21510</td>\n",
       "    </tr>\n",
       "    <tr>\n",
       "      <th>2</th>\n",
       "      <td>ACER Aspire 1 A115-22</td>\n",
       "      <td>18.999 ден</td>\n",
       "      <td>15.999 ден</td>\n",
       "      <td>https://clevershop.mk/product/acer-aspire-1-nx...</td>\n",
       "      <td>?add-to-cart=20826</td>\n",
       "    </tr>\n",
       "    <tr>\n",
       "      <th>3</th>\n",
       "      <td>Acer Aspire 3 A315-23-R26A</td>\n",
       "      <td>29.990 ден</td>\n",
       "      <td>None</td>\n",
       "      <td>https://clevershop.mk/product/acer-aspire-3-a3...</td>\n",
       "      <td>?add-to-cart=21516</td>\n",
       "    </tr>\n",
       "    <tr>\n",
       "      <th>4</th>\n",
       "      <td>Acer Aspire 3 A315-58-33WK</td>\n",
       "      <td>24.490 ден</td>\n",
       "      <td>None</td>\n",
       "      <td>https://clevershop.mk/product/21498/</td>\n",
       "      <td>?add-to-cart=21498</td>\n",
       "    </tr>\n",
       "    <tr>\n",
       "      <th>5</th>\n",
       "      <td>Acer Aspire 3 A315-58-33WK</td>\n",
       "      <td>25.990 ден</td>\n",
       "      <td>None</td>\n",
       "      <td>https://clevershop.mk/product/acer-aspire-3-a3...</td>\n",
       "      <td>?add-to-cart=21506</td>\n",
       "    </tr>\n",
       "    <tr>\n",
       "      <th>6</th>\n",
       "      <td>ACER Aspire 5 (A515-56-35KA)</td>\n",
       "      <td>23.990 ден</td>\n",
       "      <td>None</td>\n",
       "      <td>https://clevershop.mk/product/acer-aspire-5-a5...</td>\n",
       "      <td>?add-to-cart=21693</td>\n",
       "    </tr>\n",
       "    <tr>\n",
       "      <th>7</th>\n",
       "      <td>ACER ASPIRE 5 A515-45</td>\n",
       "      <td>29.990 ден</td>\n",
       "      <td>None</td>\n",
       "      <td>https://clevershop.mk/product/acer-aspire-5-a5...</td>\n",
       "      <td>?add-to-cart=21523</td>\n",
       "    </tr>\n",
       "    <tr>\n",
       "      <th>8</th>\n",
       "      <td>Acer Aspire 5 A515-45-R07Y Silver</td>\n",
       "      <td>24.990 ден</td>\n",
       "      <td>None</td>\n",
       "      <td>https://clevershop.mk/product/acer-aspire-5-a5...</td>\n",
       "      <td>?add-to-cart=21501</td>\n",
       "    </tr>\n",
       "    <tr>\n",
       "      <th>9</th>\n",
       "      <td>Acer Aspire 5 A515-45-R1FG</td>\n",
       "      <td>36.990 ден</td>\n",
       "      <td>None</td>\n",
       "      <td>https://clevershop.mk/product/acer-aspire-5-a5...</td>\n",
       "      <td>?add-to-cart=18324</td>\n",
       "    </tr>\n",
       "  </tbody>\n",
       "</table>\n",
       "</div>"
      ],
      "text/plain": [
       "                               title regular price discount price  \\\n",
       "0                  Acer A315-23-A7KD    17.590 ден           None   \n",
       "1                  Acer A315-23-R5P2    27.490 ден           None   \n",
       "2              ACER Aspire 1 A115-22    18.999 ден     15.999 ден   \n",
       "3         Acer Aspire 3 A315-23-R26A    29.990 ден           None   \n",
       "4         Acer Aspire 3 A315-58-33WK    24.490 ден           None   \n",
       "5         Acer Aspire 3 A315-58-33WK    25.990 ден           None   \n",
       "6       ACER Aspire 5 (A515-56-35KA)    23.990 ден           None   \n",
       "7              ACER ASPIRE 5 A515-45    29.990 ден           None   \n",
       "8  Acer Aspire 5 A515-45-R07Y Silver    24.990 ден           None   \n",
       "9         Acer Aspire 5 A515-45-R1FG    36.990 ден           None   \n",
       "\n",
       "                                      url to product         add to cart  \n",
       "0   https://clevershop.mk/product/acer-a315-23-a7kd/  ?add-to-cart=21494  \n",
       "1   https://clevershop.mk/product/acer-a315-23-r5p2/  ?add-to-cart=21510  \n",
       "2  https://clevershop.mk/product/acer-aspire-1-nx...  ?add-to-cart=20826  \n",
       "3  https://clevershop.mk/product/acer-aspire-3-a3...  ?add-to-cart=21516  \n",
       "4               https://clevershop.mk/product/21498/  ?add-to-cart=21498  \n",
       "5  https://clevershop.mk/product/acer-aspire-3-a3...  ?add-to-cart=21506  \n",
       "6  https://clevershop.mk/product/acer-aspire-5-a5...  ?add-to-cart=21693  \n",
       "7  https://clevershop.mk/product/acer-aspire-5-a5...  ?add-to-cart=21523  \n",
       "8  https://clevershop.mk/product/acer-aspire-5-a5...  ?add-to-cart=21501  \n",
       "9  https://clevershop.mk/product/acer-aspire-5-a5...  ?add-to-cart=18324  "
      ]
     },
     "execution_count": 21,
     "metadata": {},
     "output_type": "execute_result"
    }
   ],
   "source": [
    "df = scrapingMultiplePages(1,3)\n",
    "df.head(10)"
   ]
  },
  {
   "cell_type": "markdown",
   "id": "a76e0229-38fc-41a6-83ab-36978302b833",
   "metadata": {},
   "source": [
    "**Saving the dataframe as .csv**"
   ]
  },
  {
   "cell_type": "code",
   "execution_count": 23,
   "id": "ae98e82a-9894-4ace-a50a-bc9966ea5519",
   "metadata": {},
   "outputs": [],
   "source": [
    "df.to_csv(\"vnp-lab1.csv\")"
   ]
  }
 ],
 "metadata": {
  "kernelspec": {
   "display_name": "Python 3 (ipykernel)",
   "language": "python",
   "name": "python3"
  },
  "language_info": {
   "codemirror_mode": {
    "name": "ipython",
    "version": 3
   },
   "file_extension": ".py",
   "mimetype": "text/x-python",
   "name": "python",
   "nbconvert_exporter": "python",
   "pygments_lexer": "ipython3",
   "version": "3.12.7"
  }
 },
 "nbformat": 4,
 "nbformat_minor": 5
}
